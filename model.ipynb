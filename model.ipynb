{
 "cells": [
  {
   "cell_type": "markdown",
   "metadata": {},
   "source": [
    "# 一、图片处理"
   ]
  },
  {
   "cell_type": "markdown",
   "metadata": {},
   "source": [
    "# 二、神经网络"
   ]
  },
  {
   "cell_type": "markdown",
   "metadata": {},
   "source": [
    "## (一)、主干网络"
   ]
  },
  {
   "cell_type": "code",
   "execution_count": 1,
   "metadata": {},
   "outputs": [],
   "source": [
    "import torch\n",
    "from torch import nn"
   ]
  },
  {
   "cell_type": "markdown",
   "metadata": {},
   "source": [
    "### 1、ResNet"
   ]
  },
  {
   "cell_type": "markdown",
   "metadata": {},
   "source": [
    "#### Residual block\n",
    "<center class=\"half\">\n",
    "    <img src='./Resnet_img/bottleneck.png'  height=\"420\"></img><img src='./Resnet_img/bottleneck_extend.png'  height=\"420\"></img>\n",
    "</center>"
   ]
  },
  {
   "cell_type": "code",
   "execution_count": 6,
   "metadata": {},
   "outputs": [],
   "source": [
    "class Bottleneck(nn.Module):\n",
    "    expansion = 4\n",
    "    def __init__(self, in_channel: int, out_channel: int, ibn: bool = False):\n",
    "        super(Bottleneck, self).__init__()\n",
    "        self.conv1 = nn.Conv2d(in_channel, out_channel, kernel_size=1, bias=False)\n",
    "        if ibn:\n",
    "            self.bn1 = IBN(out_channel, type='a')\n",
    "        else:\n",
    "            self.bn1 = nn.BatchNorm2d(out_channel)\n",
    "        self.conv2 = nn.Conv2d(out_channel, out_channel, kernel_size=3, bias=False, padding=1)\n",
    "        self.bn2 = nn.BatchNorm2d(out_channel)\n",
    "        # self.conv3 = nn.Conv2d(out_channel, out_channel * self.expansion, kernel_size=1, bias=False)\n",
    "        # self.bn3 = nn.BatchNorm2d(out_channel * self.expansion)\n",
    "        self.relu = nn.ReLU(inplace=True)\n",
    "\n",
    "    def forward(self, input):\n",
    "        residual = input\n",
    "        out = self.conv1(input)\n",
    "        out = self.bn1(out)\n",
    "        out = self.relu(out)\n",
    "        out = self.conv2(out)\n",
    "        out = self.bn2(out)\n",
    "        out = self.relu(out)\n",
    "        # out = self.conv3(out)\n",
    "        # out = self.bn3(out)\n",
    "        out += residual\n",
    "        out = self.relu(out)\n",
    "        return out\n"
   ]
  },
  {
   "cell_type": "code",
   "execution_count": 7,
   "metadata": {},
   "outputs": [],
   "source": [
    "class IBN(nn.Module):\n",
    "    def __init__(self, in_channel: int, type: str = 'a'):\n",
    "        super(IBN, self).__init__()\n",
    "        self.type = type\n",
    "        self.in_channel = in_channel\n",
    "        self.half = int(in_channel/2)\n",
    "        self.half_IN = nn.InstanceNorm2d(self.half, affine=True)\n",
    "        self.half_BN = nn.BatchNorm2d(self.in_channel - self.half)\n",
    "        self.IN = nn.InstanceNorm2d(self.in_channel, affine=True)\n",
    "        self.BN = nn.BatchNorm2d(self.in_channel)\n",
    "        \n",
    "    def forward(self, input):\n",
    "        if self.type == 'a':\n",
    "            split = torch.split(input, self.half, 1)\n",
    "            out1 = self.half_IN(split[0].contiguous())\n",
    "            out2 = self.half_BN(split[1].contiguous())\n",
    "            return torch.cat((out1, out2), 1)\n",
    "        if self.type == 'b':\n",
    "            return self.IN(input)\n",
    "        if self.type == 'c':\n",
    "            in1 = input.contiguous()\n",
    "            out1 = self.IN(input)\n",
    "            out2 = self.BN(in1)\n",
    "            return out1 + out2\n",
    "        if self.type == 'd':\n",
    "            split = torch.split(input, self.half, 1)\n",
    "            out1 = self.IN(split[0].contiguous())\n",
    "            out2 = split[1].contiguous()\n",
    "            return torch.cat((out1, out2), 1)"
   ]
  },
  {
   "cell_type": "code",
   "execution_count": 8,
   "metadata": {},
   "outputs": [],
   "source": [
    "input = torch.randn(1, 3, 224, 224)\n",
    "conv1 = nn.Conv2d(3, 64, kernel_size=7, stride=2, padding=3)\n",
    "out = conv1(input)\n",
    "b = Bottleneck(64, 64, True)\n",
    "out1 = b.forward(out)"
   ]
  },
  {
   "cell_type": "markdown",
   "metadata": {},
   "source": [
    "#### Model\n",
    "<center class=\"half\">\n",
    "<img src=\"./Resnet_img/layer.jpg\" width=\"520\"></img><img src='./Resnet_img/resnet.jpg' width=\"920\"></img>\n",
    "</center>"
   ]
  },
  {
   "cell_type": "markdown",
   "metadata": {},
   "source": [
    "### 2、YOLO"
   ]
  },
  {
   "cell_type": "markdown",
   "metadata": {},
   "source": [
    "#### YOLOv1\n",
    "<center class=\"half\">\n",
    "<img src=\"./YOLO_img/layer.jpg\">\n",
    "</center>"
   ]
  },
  {
   "cell_type": "code",
   "execution_count": 54,
   "metadata": {},
   "outputs": [],
   "source": [
    "class YOLO(nn.Module):\n",
    "    def __init__(self, cell: int = 7, cls: int = 20, boxes: int = 2):\n",
    "        super(YOLO, self).__init__()\n",
    "        self.C = cell\n",
    "        self.CLS = cls\n",
    "        self.B = boxes\n",
    "\n",
    "        self.conv1 = nn.Conv2d(3, 192, kernel_size=7, stride=2, padding=1)\n",
    "        self.max_pool1 = nn.MaxPool2d(kernel_size=2, stride=2, padding=1)\n",
    "\n",
    "        self.conv2 = nn.Conv2d(192, 256, kernel_size=3)\n",
    "        self.max_pool2 = nn.MaxPool2d(kernel_size=2, stride=2, padding=1)\n",
    "\n",
    "        self.conv3_1 = nn.Conv2d(256, 128, kernel_size=1)\n",
    "        self.conv3_2 = nn.Conv2d(128, 256, kernel_size=3)\n",
    "        self.conv3_3 = nn.Conv2d(256, 256, kernel_size=1)\n",
    "        self.conv3_4 = nn.Conv2d(256, 512, kernel_size=3, padding=1)\n",
    "        self.max_pool3 = nn.MaxPool2d(kernel_size=2, stride=2, padding=1)\n",
    "        \n",
    "        self.conv4_1 = nn.Conv2d(512, 256, kernel_size=1)\n",
    "        self.conv4_2 = nn.Conv2d(256, 512, kernel_size=3, padding=2)\n",
    "        self.conv4_3 = nn.Conv2d(512, 512, kernel_size=1)\n",
    "        self.conv4_4 = nn.Conv2d(512, 1024, kernel_size=3)\n",
    "        self.max_pool4 = nn.MaxPool2d(kernel_size=2, stride=2)\n",
    "\n",
    "        self.conv5_1 = nn.Conv2d(1024, 512, kernel_size=1)\n",
    "        self.conv5_2 = nn.Conv2d(512, 1024, kernel_size=3)\n",
    "        self.conv5_3 = nn.Conv2d(1024, 1024, kernel_size=3, padding=2)\n",
    "        self.max_pool5 = nn.MaxPool2d(kernel_size=3, stride=2, padding=1)\n",
    "\n",
    "        self.conv6_1 = nn.Conv2d(1024, 1024, kernel_size=3)\n",
    "        self.conv6_2 = nn.Conv2d(1024, 1024, kernel_size=3, padding=2)\n",
    "\n",
    "        self.conv7 = nn.Conv2d(1024, 4096, kernel_size=7)\n",
    "\n",
    "        self.conv8 = nn.Conv2d(4096, self.C*self.C*(self.CLS+self.B*5), kernel_size=1)\n",
    "\n",
    "    def forward(self, input: torch.Tensor):\n",
    "        out = self.conv1(input)\n",
    "        out1 = self.max_pool1(out)\n",
    "        \n",
    "        out = self.conv2(out1)\n",
    "        out2 = self.max_pool2(out)\n",
    "\n",
    "        out = self.conv3_1(out2)\n",
    "        out = self.conv3_2(out)\n",
    "        out = self.conv3_3(out)\n",
    "        out = self.conv3_4(out)\n",
    "        out3 = self.max_pool3(out)\n",
    "\n",
    "        for i in range(4):\n",
    "            out = self.conv4_1(out3)\n",
    "            out = self.conv4_2(out)\n",
    "        out = self.conv4_3(out)\n",
    "        out = self.conv4_4(out)\n",
    "        out4 = self.max_pool4(out)\n",
    "\n",
    "        for i in range(2):\n",
    "            out = self.conv5_1(out4)\n",
    "            out = self.conv5_2(out)\n",
    "        out = self.conv5_3(out)\n",
    "        out5 = self.max_pool5(out)\n",
    "\n",
    "        out = self.conv6_1(out5)\n",
    "        out6 = self.conv6_2(out)\n",
    "\n",
    "        out7 = self.conv7(out6)\n",
    "\n",
    "        out8 = self.conv8(out7)\n",
    "\n",
    "        return out8.reshape((self.C, self.C, self.CLS+self.B*5))"
   ]
  },
  {
   "cell_type": "code",
   "execution_count": 55,
   "metadata": {},
   "outputs": [],
   "source": [
    "input = torch.randn(1, 3, 448, 448)\n",
    "yolo = YOLO()\n",
    "out = yolo.forward(input)"
   ]
  },
  {
   "cell_type": "markdown",
   "metadata": {},
   "source": [
    "### 3、HRNet"
   ]
  },
  {
   "cell_type": "markdown",
   "metadata": {},
   "source": [
    "#### Backbone\n",
    "#### Model\n",
    "<center class=\"half\">\n",
    "<img src=\"./HRNet_img/backbone.jpg\"></img>\n",
    "</center>"
   ]
  }
 ],
 "metadata": {
  "kernelspec": {
   "display_name": "Python 3.9.7 ('base')",
   "language": "python",
   "name": "python3"
  },
  "language_info": {
   "codemirror_mode": {
    "name": "ipython",
    "version": 3
   },
   "file_extension": ".py",
   "mimetype": "text/x-python",
   "name": "python",
   "nbconvert_exporter": "python",
   "pygments_lexer": "ipython3",
   "version": "3.9.7"
  },
  "orig_nbformat": 4,
  "vscode": {
   "interpreter": {
    "hash": "57bc2b6ce032b5f0e93daa91901b7ea38a856826ef43aa9e95b6d3999f5310df"
   }
  }
 },
 "nbformat": 4,
 "nbformat_minor": 2
}
