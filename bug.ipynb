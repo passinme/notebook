{
 "cells": [
  {
   "cell_type": "markdown",
   "metadata": {},
   "source": [
    "# 一、python环境"
   ]
  },
  {
   "cell_type": "markdown",
   "metadata": {},
   "source": [
    "## Anaconda\n",
    "[Anaconda](https://repo.anaconda.com/archive/)版本大全\n",
    "```bash\n",
    "wget https://repo.anaconda.com/archive/Anaconda3-2022.05-Linux-x86_64.sh\n",
    "bash Anaconda3-2022.05-Linux-x86_64.sh\n",
    "```"
   ]
  },
  {
   "cell_type": "markdown",
   "metadata": {},
   "source": [
    "## pytorch\n",
    "[pytorch](https://pytorch.org/get-started/previous-versions/)官网查询安装"
   ]
  },
  {
   "cell_type": "markdown",
   "metadata": {},
   "source": [
    "### 1、RuntimeError: DataLoader worker (pid 25846) is killed by signal: Killed.\n",
    "问题原因：Dataloader的num_workers过大，导致内存不足\n",
    "解决办法：\n",
    "```bash\n",
    "# 1、增加容器内存(没尝试过)\n",
    "--shm-size 64G\n",
    "# 2、减少num_workers\n",
    "# 3、增加虚拟内存(没啥用)\n",
    "cd /root\n",
    "fallocate -l 4G /swapfile                                   #设置4G交换内存\n",
    "ls -lh /swapfile                                            #查看是否创建成功\n",
    "chmod 600 /swapfile                                         #激活虚拟内存\n",
    "mkswap /swapfile\n",
    "swapon /swapfile\n",
    "swapon --show                                               #查看\n",
    "cp /etc/fstab /etc/fstab.bak                                #备份配置文件\n",
    "echo '/swapfile none swap sw 0 0' | sudo tee -a /etc/fstab  #将虚拟内存固化\n",
    "free -mh                                                    #查看结果\n",
    "```"
   ]
  },
  {
   "cell_type": "markdown",
   "metadata": {},
   "source": [
    "## opencv"
   ]
  },
  {
   "cell_type": "markdown",
   "metadata": {},
   "source": [
    "### 1、ImportError: libGL.so.1: cannot open shared object file: No such file or directory\n",
    "原因：缺少依赖库  \n",
    "解决办法：\n",
    "```bash\n",
    "#1、安装完整opencv\n",
    "pip install opencv-python-headless\n",
    "#2、安装缺少的库\n",
    "apt install libgl1-mesa-glx\n",
    "```"
   ]
  },
  {
   "cell_type": "markdown",
   "metadata": {},
   "source": [
    "### 2、cv2.error: OpenCV(4.6.0) /io/opencv/modules/highgui/src/window.cpp:1267: error: (-2:Unspecified error) The function is not implemented. Rebuild the library with Windows, GTK+ 2.x or Cocoa support. If you are on Ubuntu or Debian, install libgtk2.0-dev and pkg-config, then re-run cmake or configure script in function 'cvShowImage'\n",
    "解决办法：\n",
    "```bash\n",
    "apt-get update\n",
    "apt-get install libgtk2.0-dev pkg-config\n",
    "```"
   ]
  },
  {
   "cell_type": "markdown",
   "metadata": {},
   "source": [
    "## apex"
   ]
  },
  {
   "cell_type": "markdown",
   "metadata": {},
   "source": [
    "### 1、ModuleNotFoundError: No module named 'apex'\n",
    "[apex](https://github.com/NVIDIA/apex)官网下载安装包  \n",
    "执行\n",
    "```bash\n",
    "unzip apex-master.zip\n",
    "cd apex-master\n",
    "pip install -v --disable-pip-version-check --no-cache-dir --global-option=\"--cpp_ext\" --global-option=\"--cuda_ext\" ./\n",
    "```"
   ]
  },
  {
   "cell_type": "markdown",
   "metadata": {},
   "source": [
    "## pycocotools"
   ]
  },
  {
   "cell_type": "markdown",
   "metadata": {},
   "source": [
    "问题：无法安装  \n",
    "解决办法：\n",
    "```bash\n",
    "conda install -c conda-forge pycocotools\n",
    "```"
   ]
  },
  {
   "cell_type": "markdown",
   "metadata": {},
   "source": [
    "## mmcv"
   ]
  },
  {
   "cell_type": "markdown",
   "metadata": {},
   "source": [
    "### 1、ModuleNotFoundError: No module named 'mmcv._ext'\n",
    "原因：mmcv与cuda或pytorch版本不对应\n",
    "解决办法：寻找对应的版本\n",
    "```bash\n",
    " #打印所有mmcv版本\n",
    " pip install mmcv-full==latest+torch1.12.0+cu110 -f https://download.openmmlab.com/mmcv/dist/index.html\n",
    " #安装对应版本\n",
    " pip install mmcv-full -f https://download.openmmlab.com/mmcv/dist/cu110/torch1.7.0/index.html\n",
    "```"
   ]
  },
  {
   "cell_type": "markdown",
   "metadata": {},
   "source": [
    "## 国内pip源\n",
    "### 1、豆瓣源\n",
    "```bash\n",
    "pip install -i https://pypi.doubanio.com/simple {package}\n",
    "```\n",
    "### 2、清华源\n",
    "```bash\n",
    "pip install -i https://pypi.tuna.tsinghua.edu.cn/simple {package}\n",
    "```"
   ]
  },
  {
   "cell_type": "markdown",
   "metadata": {},
   "source": [
    "# 二、ubuntu"
   ]
  },
  {
   "cell_type": "markdown",
   "metadata": {},
   "source": [
    "## 查询CPU\n",
    "***\n",
    "```bash\n",
    "cat /proc/cpuinfo | grep name | cut -f2 -d: | uniq -c\n",
    "```"
   ]
  },
  {
   "cell_type": "markdown",
   "metadata": {},
   "source": [
    "## 禁止ubuntu内核更新：\n",
    "***\n",
    "```bash\n",
    "uname -a   #查看正在使用的内核版本\n",
    "dpkg --get-selections |grep linux-image    #查看安装好的内核版本\n",
    "sudo apt-mark hold linux-image-x.xx.x-xx-generic\n",
    "sudo apt-mark hold linux-image-extra-x.xx.x-xx-generic\n",
    "sudo apt-mark hold nvidia-415\n",
    "```"
   ]
  },
  {
   "cell_type": "markdown",
   "metadata": {},
   "source": [
    "## linux安装SSH+允许root用户远程登录，并允许X11\n",
    "***\n",
    "```bash\n",
    "apt-get update\n",
    "apt-get install openssh-server\n",
    "/etc/init.d/ssh start\n",
    "apt-get install vim\n",
    "vim /etc/ssh/sshd_config\n",
    "PermitRootLogin prohibit-password --> PermitRootLogin yes\n",
    "LoginGraceTime 2m --> LoginGraceTime 120\n",
    "AddressFamily any --> AddressFamily inet\n",
    "passwd root #设置root用户\n",
    "/etc/init.d/ssh restart\n",
    "```"
   ]
  },
  {
   "cell_type": "markdown",
   "metadata": {},
   "source": [
    "## 导入tar镜像文件\n",
    "***\n",
    "```bash\n",
    "sudo dockerd -s overlay2\n",
    "nvidia-docker load --input ./chipeak-ub18.04-cuda10.1-detectron2-zwh-2020-06-16.tar\n",
    "```"
   ]
  },
  {
   "cell_type": "markdown",
   "metadata": {},
   "source": [
    "## 导出镜像为tar文件\n",
    "***\n",
    "```bash\n",
    "nvidia-docker save -o chipeak-ub18.04-cuda10.1-detectron2-qhy-2021-03-25.tar  [镜像id或name]\n",
    "```"
   ]
  },
  {
   "cell_type": "markdown",
   "metadata": {},
   "source": [
    "## 导出容器为镜像：\n",
    "***\n",
    "```bash\n",
    "nvidia-docker commit [选项] [容器ID或容器名]  [仓库名:标签]\n",
    "nvidia-docker commit -a 'weikaixxxxxx' -m '导入了数据库' 9adeb5943045  mysql:v2\n",
    "# -a:修改人\n",
    "# -m:备注\n",
    "```"
   ]
  },
  {
   "cell_type": "markdown",
   "metadata": {},
   "source": [
    "## 创建容器\n",
    "***\n",
    "```bash\n",
    "nvidia-docker run --runtime=nvidia --gpus all   -dit --restart=always  --privileged   -v /tmp/.X11-unix:/tmp/.X11-unix   -v /work/disk2/my_work/6.qhy/Reid-2021-03-25:/work    -p 10087:22    -e DISPLAY=:0    -e LANG=C.UTF-8  --shm-size 32G   --name  ub18.04-cuda10.1-server-qhy   -w /work   329ed837d508 /bin/bash\n",
    "\n",
    "nvidia-docker run\n",
    "-dit                                       # 后台运行容器\n",
    "--restart=always                           # docker重启时,自动重启\n",
    "--net=bredge-zwh                           # 网桥名称\n",
    "-p 10086:22                                # 端口映射\n",
    "-v   /work:/my_work                        # 目录映射\n",
    "-v /tmp/.X11-unix:/tmp/.X11-unix           # 图形界面信息窗体sockt\n",
    "--privileged                               # container内的root拥有真正的root权限\n",
    "-e DISPLAY=:0                              # 图形界面端口\n",
    "-e LANG=C.UTF-8                            # 支持中文环境\n",
    "--shm-size 16G                             # 共享内存\n",
    "--name  chipeak-ub18.04-cuda10.1-caffe-zwh # 容器名称\n",
    "9e47e9dfcb9a                               # 进行id\n",
    "/bin/bash                                  # 启动终端\n",
    "QT_X11_NO_MITSHM=1\n",
    "-w /home/jello                             # 指定工作目录\n",
    "--restart=always                           # docker重启时,自动重启\n",
    "-e LANG=C.UTF-8                            # 支持中文环境\n",
    "-p                                         # 本机端口——>容器端口映射\n",
    "-v                                         # 挂在宿主文件，到容器。\n",
    "-name                                      # 容器名称\n",
    "-c                                         # 接下来的表示一个字符串\n",
    "```"
   ]
  },
  {
   "cell_type": "markdown",
   "metadata": {},
   "source": [
    "## docker界面显示\n",
    "***\n",
    "```bash\n",
    "echo $DISPLAY\n",
    "sudo apt-get install lightdm\n",
    "sudo service lightdm start\n",
    "xhost +$HOSTNAME\n",
    "export DISPLAY=:0.0\n",
    "```"
   ]
  },
  {
   "cell_type": "markdown",
   "metadata": {},
   "source": [
    "## 查询已经被占用的ip\n",
    "***\n",
    "```bash\n",
    "nbtscan 192.168.1.1-254\n",
    "```"
   ]
  },
  {
   "cell_type": "markdown",
   "metadata": {},
   "source": [
    "## sshfs挂载\n",
    "***\n",
    "```bash\n",
    "sudo apt-get install sshfs\n",
    "sshfs ${username}@${ip}:${remoto_path} ${local_path}\n",
    "```"
   ]
  },
  {
   "cell_type": "markdown",
   "metadata": {},
   "source": [
    "## 拉取CUDA+CUDNN容器\n",
    "******\n",
    "Nvidia官方[docker](https://hub.docker.com/r/nvidia/cuda/tags?page=1)  \n",
    "\n",
    "注意：  \n",
    "base版本：  \n",
    "该版本是从cuda9.0开始，包含了部署预构建cuda应用程序的最低限度（libcudart）。  \n",
    "如果用户需要自己安装自己需要的cuda包，可以选择使用这个image版本，但如果想省事儿，则不建议使用该image，会多出许多麻烦。  \n",
    "runtime版本：  \n",
    "该版本通过添加cuda工具包中的所有共享库开扩展基本image。如果使用多个cuda库的预构建应用程序，可使用此image。但是如果想借助cuda中的头文件对自己的工程进行编译，则会出现找不到文件的错误。  \n",
    "devel版本：  \n",
    "通过添加编译器工具链，测试工具，头文件和静态库来扩展运行的image，使用此图像可以从源代码编译cuda应用程序。"
   ]
  },
  {
   "cell_type": "markdown",
   "metadata": {},
   "source": [
    "## 安装Nvidia-docker\n",
    "```bash\n",
    "# step 1: 安装必要的一些系统工具\n",
    "sudo apt-get update\n",
    "sudo apt-get -y install apt-transport-https ca-certificates curl software-properties-common\n",
    "# step 2: 安装GPG证书\n",
    "curl -fsSL http://mirrors.aliyun.com/docker-ce/linux/ubuntu/gpg | sudo apt-key add -\n",
    "# Step 3: 写入软件源信息\n",
    "sudo add-apt-repository \"deb [arch=amd64] http://mirrors.aliyun.com/docker-ce/linux/ubuntu $(lsb_release -cs) stable\"\n",
    "# Step 4: 更新并安装 Docker-CE\n",
    "sudo apt-get -y update\n",
    "sudo apt-get -y install docker-ce\n",
    "\n",
    "# 清理以前的。If you have nvidia-docker 1.0 installed: we need to remove it and all existing GPU containers\n",
    "sudo docker volume ls -q -f driver=nvidia-docker | xargs -r -I{} -n1 docker ps -q -a -f volume={} | xargs -r docker rm -f\n",
    "sudo apt-get purge -y nvidia-docker\n",
    "sudo apt autoremove\n",
    " \n",
    "# 执行命令。Add the package repositories\n",
    "# command 1\n",
    "curl -s -L https://nvidia.github.io/nvidia-docker/gpgkey | \\\n",
    "  sudo apt-key add -\n",
    " \n",
    "# command 2\n",
    "distribution=$(. /etc/os-release;echo $ID$VERSION_ID)\n",
    " \n",
    "# command 3\n",
    "curl -s -L https://nvidia.github.io/nvidia-docker/$distribution/nvidia-docker.list | \\\n",
    "  sudo tee /etc/apt/sources.list.d/nvidia-docker.list\n",
    "sudo apt-get update\n",
    " \n",
    "# 正式安装。Install nvidia-docker2 and reload the Docker daemon configuration\n",
    "sudo apt-get install -y nvidia-docker2\n",
    "sudo pkill -SIGHUP dockerd\n",
    " \n",
    "# 测试一下。 Test nvidia-smi with the latest official CUDA image\n",
    "sudo docker run --runtime=nvidia --rm nvidia/cuda:11.1.1-cudnn8-devel-ubuntu18.04  nvidia-smi\n",
    "sudo groupadd docker\n",
    "sudo usermod  -aG docker ${用户名}\n",
    "sudo service docker restart\n",
    "```\n",
    "报错： ‘gpg: 找不到有效的 OpenPGP‘ & ‘E: 无法定位软件包 nvidia-docker2‘\n",
    "```bash\n",
    "# 打开ipaddress，搜索查找nvidia.github.io，即可得到对应的ip地址：\n",
    "\n",
    "# nvidia.github.io\n",
    "185.199.108.153 nvidia.github.io\n",
    "185.199.109.153 nvidia.github.io\n",
    "185.199.110.153 nvidia.github.io\n",
    "185.199.111.153 nvidia.github.io\n",
    "\n",
    "# 然后将上面的信息写入host文件即可：可在命令行输入sudo vi /etc/hosts，然后将上面的内容复制在文件\n",
    "# 下方，保存退出即可。\n",
    "# 这时候重新打开终端，再按安装指南一步一步操作的时候，就不会出现上面的问题了。\n",
    "```"
   ]
  },
  {
   "cell_type": "markdown",
   "metadata": {},
   "source": [
    "# 三、git"
   ]
  },
  {
   "cell_type": "markdown",
   "metadata": {},
   "source": [
    "```bash\n",
    "# 1、初始化git\n",
    "git init\n",
    "# 2、全部加入仓库\n",
    "git add --all\n",
    "git add .\n",
    "# 3、生成ssh密钥连接GitHub\n",
    "ssh-keygen -t rsa -C \"799867114@qq.com\"\n",
    "cat ~/.ssh/id_rsa.pub\n",
    "# 4、添加注释\n",
    "git commit -am '第一次版本提交'\n",
    "# 5、关联github仓库\n",
    "git remote add origin https://github.com/passinme/notebook.git\n",
    "# 6、查看是否成功关联\n",
    "git remote\n",
    "# 7、推送代码至github\n",
    "git push -u origin master\n",
    "```"
   ]
  }
 ],
 "metadata": {
  "kernelspec": {
   "display_name": "Python 3.9.7 ('base')",
   "language": "python",
   "name": "python3"
  },
  "language_info": {
   "name": "python",
   "version": "3.9.7"
  },
  "orig_nbformat": 4,
  "vscode": {
   "interpreter": {
    "hash": "57bc2b6ce032b5f0e93daa91901b7ea38a856826ef43aa9e95b6d3999f5310df"
   }
  }
 },
 "nbformat": 4,
 "nbformat_minor": 2
}
